{
 "cells": [
  {
   "cell_type": "code",
   "execution_count": 16,
   "metadata": {},
   "outputs": [],
   "source": [
    "import pandas as pd\n",
    "import numpy as np\n",
    "from yfinance import download as stock_price_download\n",
    "from math import floor"
   ]
  },
  {
   "cell_type": "markdown",
   "metadata": {},
   "source": [
    "### Create conversion dicts to go between a note and a midi value"
   ]
  },
  {
   "cell_type": "code",
   "execution_count": 31,
   "metadata": {},
   "outputs": [],
   "source": [
    "notes: list[str] = [\"C\", \"C#\", \"D\", \"D#\", \"E\", \"F\", \"F#\", \"G\", \"G#\", \"A\", \"A#\", \"B\"]\n",
    "octaves = [i for i in range(-1, 10)]\n",
    "\n",
    "note_to_midi = {\n",
    "    note: midi_code for midi_code, note in \\\n",
    "    enumerate([note + str(octave) for octave in octaves for note in notes]) \\\n",
    "    if midi_code < 128\n",
    "    }\n",
    "\n",
    "midi_to_note = {v: k for k,v in note_to_midi.items()}\n",
    "\n",
    "# print(note_to_midi)\n",
    "\n",
    "def to_midi(val):\n",
    "    \n",
    "    if 0 <= val <= 127:\n",
    "        return midi_to_note[val]\n",
    "\n",
    "\n",
    "#TODO: think of a better name for the note vs tone paradigm\n",
    "# Currently: Notes have a tone and an octave, tones are just a letter for a scale value\n",
    "def to_tone(note):\n",
    "    return note[:2] if \"#\" in note else note[0]\n",
    "\n",
    "\n"
   ]
  },
  {
   "cell_type": "markdown",
   "metadata": {},
   "source": [
    "### Generate patterns for major and minor scales"
   ]
  },
  {
   "cell_type": "code",
   "execution_count": 32,
   "metadata": {},
   "outputs": [],
   "source": [
    "major_steps = [\"W\", \"W\", \"H\", \"W\", \"W\", \"W\", \"H\"]\n",
    "major_indices = [0, 2, 4, 5, 7, 9, 11]\n",
    "\n",
    "minor_steps = [\"W\", \"H\", \"W\", \"W\", \"H\", \"W\", \"W\"]\n",
    "minor_indices = [0, 2, 3, 5, 7, 8, 10]\n",
    "\n",
    "scales = {}\n",
    "\n",
    "def firstToLast(l: list):\n",
    "    l.append(l.pop(0))\n",
    "    return l\n",
    "\n",
    "for i in range(len(notes)):\n",
    "    maj_tag = \" Major\"\n",
    "    min_tag = \" Minor\"\n",
    "    notes = firstToLast(notes)\n",
    "\n",
    "    scales[notes[0] + maj_tag] = set([notes[i] for i in major_indices])\n",
    "    scales[notes[0] + min_tag] = set([notes[i] for i in minor_indices])\n",
    "\n",
    "\n",
    "    # print(f\"Round {i}:\")\n",
    "    # print(notes)\n",
    "\n",
    "# scales\n"
   ]
  },
  {
   "cell_type": "markdown",
   "metadata": {},
   "source": [
    "### Read Financial Data"
   ]
  },
  {
   "cell_type": "code",
   "execution_count": 28,
   "metadata": {},
   "outputs": [
    {
     "name": "stdout",
     "output_type": "stream",
     "text": [
      "[*********************100%***********************]  1 of 1 completed\n"
     ]
    },
    {
     "data": {
      "text/html": [
       "<div>\n",
       "<style scoped>\n",
       "    .dataframe tbody tr th:only-of-type {\n",
       "        vertical-align: middle;\n",
       "    }\n",
       "\n",
       "    .dataframe tbody tr th {\n",
       "        vertical-align: top;\n",
       "    }\n",
       "\n",
       "    .dataframe thead th {\n",
       "        text-align: right;\n",
       "    }\n",
       "</style>\n",
       "<table border=\"1\" class=\"dataframe\">\n",
       "  <thead>\n",
       "    <tr style=\"text-align: right;\">\n",
       "      <th></th>\n",
       "      <th>Open</th>\n",
       "      <th>High</th>\n",
       "      <th>Low</th>\n",
       "      <th>Close</th>\n",
       "      <th>Adj Close</th>\n",
       "      <th>Volume</th>\n",
       "    </tr>\n",
       "    <tr>\n",
       "      <th>Date</th>\n",
       "      <th></th>\n",
       "      <th></th>\n",
       "      <th></th>\n",
       "      <th></th>\n",
       "      <th></th>\n",
       "      <th></th>\n",
       "    </tr>\n",
       "  </thead>\n",
       "  <tbody>\n",
       "    <tr>\n",
       "      <th>2020-01-02</th>\n",
       "      <td>0.069578</td>\n",
       "      <td>0.062596</td>\n",
       "      <td>0.069055</td>\n",
       "      <td>0.069164</td>\n",
       "      <td>0.069164</td>\n",
       "      <td>0.041218</td>\n",
       "    </tr>\n",
       "    <tr>\n",
       "      <th>2020-01-03</th>\n",
       "      <td>0.073579</td>\n",
       "      <td>0.070769</td>\n",
       "      <td>0.079242</td>\n",
       "      <td>0.074978</td>\n",
       "      <td>0.074978</td>\n",
       "      <td>0.030132</td>\n",
       "    </tr>\n",
       "    <tr>\n",
       "      <th>2020-01-06</th>\n",
       "      <td>0.081175</td>\n",
       "      <td>0.073792</td>\n",
       "      <td>0.082182</td>\n",
       "      <td>0.069231</td>\n",
       "      <td>0.069231</td>\n",
       "      <td>0.019010</td>\n",
       "    </tr>\n",
       "    <tr>\n",
       "      <th>2020-01-07</th>\n",
       "      <td>0.073240</td>\n",
       "      <td>0.068044</td>\n",
       "      <td>0.076097</td>\n",
       "      <td>0.073626</td>\n",
       "      <td>0.073626</td>\n",
       "      <td>0.007751</td>\n",
       "    </tr>\n",
       "    <tr>\n",
       "      <th>2020-01-08</th>\n",
       "      <td>0.077513</td>\n",
       "      <td>0.064124</td>\n",
       "      <td>0.076234</td>\n",
       "      <td>0.068555</td>\n",
       "      <td>0.068555</td>\n",
       "      <td>0.059549</td>\n",
       "    </tr>\n",
       "  </tbody>\n",
       "</table>\n",
       "</div>"
      ],
      "text/plain": [
       "                Open      High       Low     Close  Adj Close    Volume\n",
       "Date                                                                   \n",
       "2020-01-02  0.069578  0.062596  0.069055  0.069164   0.069164  0.041218\n",
       "2020-01-03  0.073579  0.070769  0.079242  0.074978   0.074978  0.030132\n",
       "2020-01-06  0.081175  0.073792  0.082182  0.069231   0.069231  0.019010\n",
       "2020-01-07  0.073240  0.068044  0.076097  0.073626   0.073626  0.007751\n",
       "2020-01-08  0.077513  0.064124  0.076234  0.068555   0.068555  0.059549"
      ]
     },
     "execution_count": 28,
     "metadata": {},
     "output_type": "execute_result"
    }
   ],
   "source": [
    "ticker: str = \"PTON\"\n",
    "start_date: str = \"2020-01-01\"\n",
    "end_date: str = \"2022-01-01\"\n",
    "\n",
    "df: pd.DataFrame = stock_price_download(ticker, start_date, end_date)\n",
    "\n",
    "steps = 32\n",
    "\n",
    "num_entries: int = len(df)\n",
    "step_factor: int = floor(num_entries / steps) \n",
    "\n",
    "# filtered_df = df.iloc[::step_factor]\n",
    "filtered_df = df\n",
    "\n",
    "\n",
    "min_value: float = df.min()\n",
    "max_value: float = df.max()\n",
    "value_range: float = max_value - min_value\n",
    "\n",
    "normalized_df = (filtered_df - min_value) / value_range\n",
    "\n",
    "normalized_df.head()\n"
   ]
  },
  {
   "cell_type": "markdown",
   "metadata": {},
   "source": [
    "### Convert to midi notes and count note occurrences"
   ]
  },
  {
   "cell_type": "code",
   "execution_count": 29,
   "metadata": {},
   "outputs": [
    {
     "data": {
      "text/html": [
       "<div>\n",
       "<style scoped>\n",
       "    .dataframe tbody tr th:only-of-type {\n",
       "        vertical-align: middle;\n",
       "    }\n",
       "\n",
       "    .dataframe tbody tr th {\n",
       "        vertical-align: top;\n",
       "    }\n",
       "\n",
       "    .dataframe thead th {\n",
       "        text-align: right;\n",
       "    }\n",
       "</style>\n",
       "<table border=\"1\" class=\"dataframe\">\n",
       "  <thead>\n",
       "    <tr style=\"text-align: right;\">\n",
       "      <th></th>\n",
       "      <th>Open</th>\n",
       "      <th>High</th>\n",
       "      <th>Low</th>\n",
       "      <th>Close</th>\n",
       "      <th>Adj Close</th>\n",
       "      <th>Volume</th>\n",
       "      <th>Notes</th>\n",
       "      <th>Tones</th>\n",
       "    </tr>\n",
       "    <tr>\n",
       "      <th>Date</th>\n",
       "      <th></th>\n",
       "      <th></th>\n",
       "      <th></th>\n",
       "      <th></th>\n",
       "      <th></th>\n",
       "      <th></th>\n",
       "      <th></th>\n",
       "      <th></th>\n",
       "    </tr>\n",
       "  </thead>\n",
       "  <tbody>\n",
       "    <tr>\n",
       "      <th>2020-01-02</th>\n",
       "      <td>9.0</td>\n",
       "      <td>8.0</td>\n",
       "      <td>9.0</td>\n",
       "      <td>9.0</td>\n",
       "      <td>9.0</td>\n",
       "      <td>6.0</td>\n",
       "      <td>A-1</td>\n",
       "      <td>A</td>\n",
       "    </tr>\n",
       "    <tr>\n",
       "      <th>2020-01-03</th>\n",
       "      <td>10.0</td>\n",
       "      <td>9.0</td>\n",
       "      <td>11.0</td>\n",
       "      <td>10.0</td>\n",
       "      <td>10.0</td>\n",
       "      <td>4.0</td>\n",
       "      <td>A#-1</td>\n",
       "      <td>A#</td>\n",
       "    </tr>\n",
       "    <tr>\n",
       "      <th>2020-01-06</th>\n",
       "      <td>11.0</td>\n",
       "      <td>10.0</td>\n",
       "      <td>11.0</td>\n",
       "      <td>9.0</td>\n",
       "      <td>9.0</td>\n",
       "      <td>3.0</td>\n",
       "      <td>B-1</td>\n",
       "      <td>B</td>\n",
       "    </tr>\n",
       "    <tr>\n",
       "      <th>2020-01-07</th>\n",
       "      <td>10.0</td>\n",
       "      <td>9.0</td>\n",
       "      <td>10.0</td>\n",
       "      <td>10.0</td>\n",
       "      <td>10.0</td>\n",
       "      <td>1.0</td>\n",
       "      <td>A#-1</td>\n",
       "      <td>A#</td>\n",
       "    </tr>\n",
       "    <tr>\n",
       "      <th>2020-01-08</th>\n",
       "      <td>10.0</td>\n",
       "      <td>9.0</td>\n",
       "      <td>10.0</td>\n",
       "      <td>9.0</td>\n",
       "      <td>9.0</td>\n",
       "      <td>8.0</td>\n",
       "      <td>A#-1</td>\n",
       "      <td>A#</td>\n",
       "    </tr>\n",
       "  </tbody>\n",
       "</table>\n",
       "</div>"
      ],
      "text/plain": [
       "            Open  High   Low  Close  Adj Close  Volume Notes Tones\n",
       "Date                                                              \n",
       "2020-01-02   9.0   8.0   9.0    9.0        9.0     6.0   A-1     A\n",
       "2020-01-03  10.0   9.0  11.0   10.0       10.0     4.0  A#-1    A#\n",
       "2020-01-06  11.0  10.0  11.0    9.0        9.0     3.0   B-1     B\n",
       "2020-01-07  10.0   9.0  10.0   10.0       10.0     1.0  A#-1    A#\n",
       "2020-01-08  10.0   9.0  10.0    9.0        9.0     8.0  A#-1    A#"
      ]
     },
     "execution_count": 29,
     "metadata": {},
     "output_type": "execute_result"
    }
   ],
   "source": [
    "midi_df = normalized_df * 127\n",
    "midi_df = midi_df.apply(np.ceil)\n",
    "\n",
    "midi_df['Notes'] = midi_df['Open'].apply(to_midi)\n",
    "\n",
    "midi_df['Tones'] = midi_df['Notes'].apply(\n",
    "    lambda s: s[:2] if \"#\" in s else s[0]\n",
    ")\n",
    "\n",
    "midi_df.head()\n"
   ]
  },
  {
   "cell_type": "code",
   "execution_count": 35,
   "metadata": {},
   "outputs": [
    {
     "data": {
      "text/plain": [
       "Tones\n",
       "F#    50\n",
       "A     49\n",
       "B     48\n",
       "A#    44\n",
       "D     44\n",
       "F     43\n",
       "C     42\n",
       "G#    42\n",
       "D#    40\n",
       "G     39\n",
       "E     33\n",
       "C#    31\n",
       "Name: Tones, dtype: int64"
      ]
     },
     "execution_count": 35,
     "metadata": {},
     "output_type": "execute_result"
    }
   ],
   "source": [
    "tone_series = midi_df.groupby('Tones')['Tones'].count().sort_values(ascending=False).iloc[0:30]\n",
    "\n",
    "tone_series"
   ]
  },
  {
   "cell_type": "code",
   "execution_count": 36,
   "metadata": {},
   "outputs": [
    {
     "ename": "ValueError",
     "evalue": "too many values to unpack (expected 2)",
     "output_type": "error",
     "traceback": [
      "\u001b[1;31m---------------------------------------------------------------------------\u001b[0m",
      "\u001b[1;31mValueError\u001b[0m                                Traceback (most recent call last)",
      "Input \u001b[1;32mIn [36]\u001b[0m, in \u001b[0;36m<module>\u001b[1;34m\u001b[0m\n\u001b[0;32m     17\u001b[0m             closest_scale\u001b[38;5;241m.\u001b[39mappend(name)\n\u001b[0;32m     19\u001b[0m     \u001b[38;5;28;01mreturn\u001b[39;00m closest_scale\n\u001b[1;32m---> 21\u001b[0m \u001b[43mgreedy_closest_scale\u001b[49m\u001b[43m(\u001b[49m\u001b[43mtone_series\u001b[49m\u001b[43m,\u001b[49m\u001b[43m \u001b[49m\u001b[43mscales\u001b[49m\u001b[43m)\u001b[49m\n",
      "Input \u001b[1;32mIn [36]\u001b[0m, in \u001b[0;36mgreedy_closest_scale\u001b[1;34m(df, scales)\u001b[0m\n\u001b[0;32m      7\u001b[0m closest_scale: \u001b[38;5;28mlist\u001b[39m[\u001b[38;5;28mstr\u001b[39m] \u001b[38;5;241m=\u001b[39m []\n\u001b[0;32m      8\u001b[0m max_metric \u001b[38;5;241m=\u001b[39m \u001b[38;5;241m0\u001b[39m\n\u001b[1;32m---> 10\u001b[0m \u001b[38;5;28;01mfor\u001b[39;00m name, notes \u001b[38;5;129;01min\u001b[39;00m scales:\n\u001b[0;32m     11\u001b[0m     metric \u001b[38;5;241m=\u001b[39m \u001b[38;5;28msum\u001b[39m([ df\u001b[38;5;241m.\u001b[39mloc(note) \u001b[38;5;28;01mfor\u001b[39;00m note \u001b[38;5;129;01min\u001b[39;00m notes])\n\u001b[0;32m     13\u001b[0m     \u001b[38;5;28;01mif\u001b[39;00m metric \u001b[38;5;241m>\u001b[39m max_metric:\n",
      "\u001b[1;31mValueError\u001b[0m: too many values to unpack (expected 2)"
     ]
    }
   ],
   "source": [
    "# Greedy Algorithm to find closest scale\n",
    "\n",
    "ScaleDict = dict[str, set[str]]\n",
    "\n",
    "def greedy_closest_scale(df: pd.DataFrame, scales: ScaleDict):\n",
    "\n",
    "    closest_scale: list[str] = []\n",
    "    max_metric = 0\n",
    "    \n",
    "    for name, notes in scales.items():\n",
    "        metric = sum([ df.loc(note) for note in notes])\n",
    "\n",
    "        if metric > max_metric:\n",
    "            closest_scale = [name]\n",
    "            max_metric = metric\n",
    "        elif metric == max_metric:\n",
    "            closest_scale.append(name)\n",
    "\n",
    "    return closest_scale\n",
    "\n",
    "greedy_closest_scale(tone_series, scales)"
   ]
  },
  {
   "cell_type": "code",
   "execution_count": null,
   "metadata": {},
   "outputs": [],
   "source": []
  }
 ],
 "metadata": {
  "interpreter": {
   "hash": "2faf662737b539ab8574f5106cc3734944e6e415ac4d7661c3bdb74a2da03b2d"
  },
  "kernelspec": {
   "display_name": "Python 3.10.2 64-bit",
   "language": "python",
   "name": "python3"
  },
  "language_info": {
   "codemirror_mode": {
    "name": "ipython",
    "version": 3
   },
   "file_extension": ".py",
   "mimetype": "text/x-python",
   "name": "python",
   "nbconvert_exporter": "python",
   "pygments_lexer": "ipython3",
   "version": "3.10.2"
  },
  "orig_nbformat": 4
 },
 "nbformat": 4,
 "nbformat_minor": 2
}
